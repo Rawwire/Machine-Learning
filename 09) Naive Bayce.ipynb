{
 "cells": [
  {
   "cell_type": "code",
   "execution_count": 44,
   "id": "71e10a79",
   "metadata": {},
   "outputs": [],
   "source": [
    "import numpy as np\n",
    "import pandas as pd\n",
    "import matplotlib.pyplot as plt"
   ]
  },
  {
   "cell_type": "code",
   "execution_count": 45,
   "id": "456540be",
   "metadata": {},
   "outputs": [
    {
     "data": {
      "text/html": [
       "<div>\n",
       "<style scoped>\n",
       "    .dataframe tbody tr th:only-of-type {\n",
       "        vertical-align: middle;\n",
       "    }\n",
       "\n",
       "    .dataframe tbody tr th {\n",
       "        vertical-align: top;\n",
       "    }\n",
       "\n",
       "    .dataframe thead th {\n",
       "        text-align: right;\n",
       "    }\n",
       "</style>\n",
       "<table border=\"1\" class=\"dataframe\">\n",
       "  <thead>\n",
       "    <tr style=\"text-align: right;\">\n",
       "      <th></th>\n",
       "      <th>Education</th>\n",
       "      <th>JoiningYear</th>\n",
       "      <th>City</th>\n",
       "      <th>PaymentTier</th>\n",
       "      <th>Age</th>\n",
       "      <th>Gender</th>\n",
       "      <th>EverBenched</th>\n",
       "      <th>ExperienceInCurrentDomain</th>\n",
       "      <th>LeaveOrNot</th>\n",
       "    </tr>\n",
       "  </thead>\n",
       "  <tbody>\n",
       "    <tr>\n",
       "      <th>0</th>\n",
       "      <td>Bachelors</td>\n",
       "      <td>2017</td>\n",
       "      <td>Bangalore</td>\n",
       "      <td>3</td>\n",
       "      <td>34</td>\n",
       "      <td>Male</td>\n",
       "      <td>No</td>\n",
       "      <td>0</td>\n",
       "      <td>0</td>\n",
       "    </tr>\n",
       "    <tr>\n",
       "      <th>1</th>\n",
       "      <td>Bachelors</td>\n",
       "      <td>2013</td>\n",
       "      <td>Pune</td>\n",
       "      <td>1</td>\n",
       "      <td>28</td>\n",
       "      <td>Female</td>\n",
       "      <td>No</td>\n",
       "      <td>3</td>\n",
       "      <td>1</td>\n",
       "    </tr>\n",
       "    <tr>\n",
       "      <th>2</th>\n",
       "      <td>Bachelors</td>\n",
       "      <td>2014</td>\n",
       "      <td>New Delhi</td>\n",
       "      <td>3</td>\n",
       "      <td>38</td>\n",
       "      <td>Female</td>\n",
       "      <td>No</td>\n",
       "      <td>2</td>\n",
       "      <td>0</td>\n",
       "    </tr>\n",
       "    <tr>\n",
       "      <th>3</th>\n",
       "      <td>Masters</td>\n",
       "      <td>2016</td>\n",
       "      <td>Bangalore</td>\n",
       "      <td>3</td>\n",
       "      <td>27</td>\n",
       "      <td>Male</td>\n",
       "      <td>No</td>\n",
       "      <td>5</td>\n",
       "      <td>1</td>\n",
       "    </tr>\n",
       "    <tr>\n",
       "      <th>4</th>\n",
       "      <td>Masters</td>\n",
       "      <td>2017</td>\n",
       "      <td>Pune</td>\n",
       "      <td>3</td>\n",
       "      <td>24</td>\n",
       "      <td>Male</td>\n",
       "      <td>Yes</td>\n",
       "      <td>2</td>\n",
       "      <td>1</td>\n",
       "    </tr>\n",
       "    <tr>\n",
       "      <th>...</th>\n",
       "      <td>...</td>\n",
       "      <td>...</td>\n",
       "      <td>...</td>\n",
       "      <td>...</td>\n",
       "      <td>...</td>\n",
       "      <td>...</td>\n",
       "      <td>...</td>\n",
       "      <td>...</td>\n",
       "      <td>...</td>\n",
       "    </tr>\n",
       "    <tr>\n",
       "      <th>4648</th>\n",
       "      <td>Bachelors</td>\n",
       "      <td>2013</td>\n",
       "      <td>Bangalore</td>\n",
       "      <td>3</td>\n",
       "      <td>26</td>\n",
       "      <td>Female</td>\n",
       "      <td>No</td>\n",
       "      <td>4</td>\n",
       "      <td>0</td>\n",
       "    </tr>\n",
       "    <tr>\n",
       "      <th>4649</th>\n",
       "      <td>Masters</td>\n",
       "      <td>2013</td>\n",
       "      <td>Pune</td>\n",
       "      <td>2</td>\n",
       "      <td>37</td>\n",
       "      <td>Male</td>\n",
       "      <td>No</td>\n",
       "      <td>2</td>\n",
       "      <td>1</td>\n",
       "    </tr>\n",
       "    <tr>\n",
       "      <th>4650</th>\n",
       "      <td>Masters</td>\n",
       "      <td>2018</td>\n",
       "      <td>New Delhi</td>\n",
       "      <td>3</td>\n",
       "      <td>27</td>\n",
       "      <td>Male</td>\n",
       "      <td>No</td>\n",
       "      <td>5</td>\n",
       "      <td>1</td>\n",
       "    </tr>\n",
       "    <tr>\n",
       "      <th>4651</th>\n",
       "      <td>Bachelors</td>\n",
       "      <td>2012</td>\n",
       "      <td>Bangalore</td>\n",
       "      <td>3</td>\n",
       "      <td>30</td>\n",
       "      <td>Male</td>\n",
       "      <td>Yes</td>\n",
       "      <td>2</td>\n",
       "      <td>0</td>\n",
       "    </tr>\n",
       "    <tr>\n",
       "      <th>4652</th>\n",
       "      <td>Bachelors</td>\n",
       "      <td>2015</td>\n",
       "      <td>Bangalore</td>\n",
       "      <td>3</td>\n",
       "      <td>33</td>\n",
       "      <td>Male</td>\n",
       "      <td>Yes</td>\n",
       "      <td>4</td>\n",
       "      <td>0</td>\n",
       "    </tr>\n",
       "  </tbody>\n",
       "</table>\n",
       "<p>4653 rows × 9 columns</p>\n",
       "</div>"
      ],
      "text/plain": [
       "      Education  JoiningYear       City  PaymentTier  Age  Gender EverBenched  \\\n",
       "0     Bachelors         2017  Bangalore            3   34    Male          No   \n",
       "1     Bachelors         2013       Pune            1   28  Female          No   \n",
       "2     Bachelors         2014  New Delhi            3   38  Female          No   \n",
       "3       Masters         2016  Bangalore            3   27    Male          No   \n",
       "4       Masters         2017       Pune            3   24    Male         Yes   \n",
       "...         ...          ...        ...          ...  ...     ...         ...   \n",
       "4648  Bachelors         2013  Bangalore            3   26  Female          No   \n",
       "4649    Masters         2013       Pune            2   37    Male          No   \n",
       "4650    Masters         2018  New Delhi            3   27    Male          No   \n",
       "4651  Bachelors         2012  Bangalore            3   30    Male         Yes   \n",
       "4652  Bachelors         2015  Bangalore            3   33    Male         Yes   \n",
       "\n",
       "      ExperienceInCurrentDomain  LeaveOrNot  \n",
       "0                             0           0  \n",
       "1                             3           1  \n",
       "2                             2           0  \n",
       "3                             5           1  \n",
       "4                             2           1  \n",
       "...                         ...         ...  \n",
       "4648                          4           0  \n",
       "4649                          2           1  \n",
       "4650                          5           1  \n",
       "4651                          2           0  \n",
       "4652                          4           0  \n",
       "\n",
       "[4653 rows x 9 columns]"
      ]
     },
     "execution_count": 45,
     "metadata": {},
     "output_type": "execute_result"
    }
   ],
   "source": [
    "file=pd.read_csv(\"D:\\Acmegrade\\Files\\Employee.csv\")\n",
    "file"
   ]
  },
  {
   "cell_type": "code",
   "execution_count": 46,
   "id": "c469eae1",
   "metadata": {},
   "outputs": [
    {
     "data": {
      "text/plain": [
       "array([['Bachelors', 2017, 'Bangalore', ..., 'Male', 'No', 0],\n",
       "       ['Bachelors', 2013, 'Pune', ..., 'Female', 'No', 3],\n",
       "       ['Bachelors', 2014, 'New Delhi', ..., 'Female', 'No', 2],\n",
       "       ...,\n",
       "       ['Masters', 2018, 'New Delhi', ..., 'Male', 'No', 5],\n",
       "       ['Bachelors', 2012, 'Bangalore', ..., 'Male', 'Yes', 2],\n",
       "       ['Bachelors', 2015, 'Bangalore', ..., 'Male', 'Yes', 4]],\n",
       "      dtype=object)"
      ]
     },
     "execution_count": 46,
     "metadata": {},
     "output_type": "execute_result"
    }
   ],
   "source": [
    "x=file.iloc[:,:-1].values\n",
    "y=file.iloc[:,-1].values\n",
    "x"
   ]
  },
  {
   "cell_type": "code",
   "execution_count": 47,
   "id": "4387d28e",
   "metadata": {},
   "outputs": [
    {
     "data": {
      "text/plain": [
       "array([0, 1, 0, ..., 1, 0, 0], dtype=int64)"
      ]
     },
     "execution_count": 47,
     "metadata": {},
     "output_type": "execute_result"
    }
   ],
   "source": [
    "y"
   ]
  },
  {
   "cell_type": "code",
   "execution_count": 48,
   "id": "f0e788ea",
   "metadata": {},
   "outputs": [
    {
     "name": "stdout",
     "output_type": "stream",
     "text": [
      "<class 'pandas.core.frame.DataFrame'>\n",
      "RangeIndex: 4653 entries, 0 to 4652\n",
      "Data columns (total 9 columns):\n",
      " #   Column                     Non-Null Count  Dtype \n",
      "---  ------                     --------------  ----- \n",
      " 0   Education                  4653 non-null   object\n",
      " 1   JoiningYear                4653 non-null   int64 \n",
      " 2   City                       4653 non-null   object\n",
      " 3   PaymentTier                4653 non-null   int64 \n",
      " 4   Age                        4653 non-null   int64 \n",
      " 5   Gender                     4653 non-null   object\n",
      " 6   EverBenched                4653 non-null   object\n",
      " 7   ExperienceInCurrentDomain  4653 non-null   int64 \n",
      " 8   LeaveOrNot                 4653 non-null   int64 \n",
      "dtypes: int64(5), object(4)\n",
      "memory usage: 327.3+ KB\n"
     ]
    }
   ],
   "source": [
    "file.info()"
   ]
  },
  {
   "cell_type": "code",
   "execution_count": 49,
   "id": "7faf3625",
   "metadata": {},
   "outputs": [],
   "source": [
    "from sklearn.preprocessing import LabelEncoder\n",
    "from sklearn.preprocessing import OneHotEncoder\n",
    "from sklearn.compose import ColumnTransformer"
   ]
  },
  {
   "cell_type": "code",
   "execution_count": 50,
   "id": "5bbac1e0",
   "metadata": {},
   "outputs": [],
   "source": [
    "le=LabelEncoder()\n",
    "x[:,0]=le.fit_transform(x[:,0])"
   ]
  },
  {
   "cell_type": "code",
   "execution_count": 51,
   "id": "4d7d62b3",
   "metadata": {},
   "outputs": [
    {
     "data": {
      "text/plain": [
       "array([[0, 2017, 0, ..., 1, 0, 0],\n",
       "       [0, 2013, 2, ..., 0, 0, 3],\n",
       "       [0, 2014, 1, ..., 0, 0, 2],\n",
       "       ...,\n",
       "       [1, 2018, 1, ..., 1, 0, 5],\n",
       "       [0, 2012, 0, ..., 1, 1, 2],\n",
       "       [0, 2015, 0, ..., 1, 1, 4]], dtype=object)"
      ]
     },
     "execution_count": 51,
     "metadata": {},
     "output_type": "execute_result"
    }
   ],
   "source": [
    "x[:,2]=le.fit_transform(x[:,2])\n",
    "x[:,5]=le.fit_transform(x[:,5])\n",
    "x[:,6]=le.fit_transform(x[:,6])\n",
    "x"
   ]
  },
  {
   "cell_type": "code",
   "execution_count": 52,
   "id": "4a39002c",
   "metadata": {},
   "outputs": [],
   "source": [
    "ct=ColumnTransformer(transformers=[(\"onehot\",OneHotEncoder(),[0,2,5,6])],remainder=\"passthrough\")\n",
    "x=ct.fit_transform(x)"
   ]
  },
  {
   "cell_type": "code",
   "execution_count": 53,
   "id": "39d9e508",
   "metadata": {
    "scrolled": true
   },
   "outputs": [
    {
     "name": "stdout",
     "output_type": "stream",
     "text": [
      "       0    1    2    3    4    5    6    7    8    9     10 11  12 13\n",
      "0     1.0  0.0  0.0  1.0  0.0  0.0  0.0  1.0  1.0  0.0  2017  3  34  0\n",
      "1     1.0  0.0  0.0  0.0  0.0  1.0  1.0  0.0  1.0  0.0  2013  1  28  3\n",
      "2     1.0  0.0  0.0  0.0  1.0  0.0  1.0  0.0  1.0  0.0  2014  3  38  2\n",
      "3     0.0  1.0  0.0  1.0  0.0  0.0  0.0  1.0  1.0  0.0  2016  3  27  5\n",
      "4     0.0  1.0  0.0  0.0  0.0  1.0  0.0  1.0  0.0  1.0  2017  3  24  2\n",
      "...   ...  ...  ...  ...  ...  ...  ...  ...  ...  ...   ... ..  .. ..\n",
      "4648  1.0  0.0  0.0  1.0  0.0  0.0  1.0  0.0  1.0  0.0  2013  3  26  4\n",
      "4649  0.0  1.0  0.0  0.0  0.0  1.0  0.0  1.0  1.0  0.0  2013  2  37  2\n",
      "4650  0.0  1.0  0.0  0.0  1.0  0.0  0.0  1.0  1.0  0.0  2018  3  27  5\n",
      "4651  1.0  0.0  0.0  1.0  0.0  0.0  0.0  1.0  0.0  1.0  2012  3  30  2\n",
      "4652  1.0  0.0  0.0  1.0  0.0  0.0  0.0  1.0  0.0  1.0  2015  3  33  4\n",
      "\n",
      "[4653 rows x 14 columns]\n"
     ]
    }
   ],
   "source": [
    "print(pd.DataFrame(x))"
   ]
  },
  {
   "cell_type": "code",
   "execution_count": 54,
   "id": "63438478",
   "metadata": {},
   "outputs": [
    {
     "name": "stdout",
     "output_type": "stream",
     "text": [
      "(3722, 14) (931, 14) (3722,) (931,)\n"
     ]
    }
   ],
   "source": [
    "from sklearn.model_selection import train_test_split as tts\n",
    "x_train,x_test,y_train,y_test=tts(x,y,test_size=0.2)\n",
    "print(x_train.shape,x_test.shape,y_train.shape,y_test.shape)"
   ]
  },
  {
   "cell_type": "code",
   "execution_count": 55,
   "id": "2cd45289",
   "metadata": {},
   "outputs": [],
   "source": [
    "from sklearn.naive_bayes import GaussianNB\n",
    "gnb=GaussianNB()"
   ]
  },
  {
   "cell_type": "code",
   "execution_count": 56,
   "id": "e71abf97",
   "metadata": {},
   "outputs": [
    {
     "data": {
      "text/plain": [
       "GaussianNB()"
      ]
     },
     "execution_count": 56,
     "metadata": {},
     "output_type": "execute_result"
    }
   ],
   "source": [
    "gnb.fit(x_train,y_train)"
   ]
  },
  {
   "cell_type": "code",
   "execution_count": 57,
   "id": "bf9a5361",
   "metadata": {},
   "outputs": [
    {
     "data": {
      "text/plain": [
       "array([0, 1, 0, ..., 1, 1, 1], dtype=int64)"
      ]
     },
     "execution_count": 57,
     "metadata": {},
     "output_type": "execute_result"
    }
   ],
   "source": [
    "a=gnb.predict(x)\n",
    "a"
   ]
  },
  {
   "cell_type": "code",
   "execution_count": 58,
   "id": "2fb1f3ea",
   "metadata": {},
   "outputs": [
    {
     "data": {
      "text/plain": [
       "0.6971846120782291"
      ]
     },
     "execution_count": 58,
     "metadata": {},
     "output_type": "execute_result"
    }
   ],
   "source": [
    "from sklearn.metrics import accuracy_score as asc\n",
    "acc=asc(y,a)\n",
    "acc"
   ]
  },
  {
   "cell_type": "code",
   "execution_count": 59,
   "id": "551221b7",
   "metadata": {},
   "outputs": [],
   "source": [
    "from sklearn.naive_bayes import BernoulliNB\n",
    "bnb=BernoulliNB()"
   ]
  },
  {
   "cell_type": "code",
   "execution_count": 60,
   "id": "aa1c88ed",
   "metadata": {},
   "outputs": [
    {
     "data": {
      "text/plain": [
       "BernoulliNB()"
      ]
     },
     "execution_count": 60,
     "metadata": {},
     "output_type": "execute_result"
    }
   ],
   "source": [
    "bnb.fit(x_train,y_train)"
   ]
  },
  {
   "cell_type": "code",
   "execution_count": 61,
   "id": "2eccc548",
   "metadata": {},
   "outputs": [
    {
     "data": {
      "text/plain": [
       "array([0, 1, 0, ..., 0, 0, 0], dtype=int64)"
      ]
     },
     "execution_count": 61,
     "metadata": {},
     "output_type": "execute_result"
    }
   ],
   "source": [
    "b=bnb.predict(x)\n",
    "b"
   ]
  },
  {
   "cell_type": "code",
   "execution_count": 62,
   "id": "8757f3e0",
   "metadata": {},
   "outputs": [
    {
     "data": {
      "text/plain": [
       "0.7274876423812594"
      ]
     },
     "execution_count": 62,
     "metadata": {},
     "output_type": "execute_result"
    }
   ],
   "source": [
    "acc=asc(y,b)\n",
    "acc"
   ]
  },
  {
   "cell_type": "code",
   "execution_count": 63,
   "id": "76beefb6",
   "metadata": {},
   "outputs": [
    {
     "data": {
      "text/plain": [
       "MultinomialNB()"
      ]
     },
     "execution_count": 63,
     "metadata": {},
     "output_type": "execute_result"
    }
   ],
   "source": [
    "from sklearn.naive_bayes import MultinomialNB\n",
    "mnb=MultinomialNB()\n",
    "mnb.fit(x_train,y_train)"
   ]
  },
  {
   "cell_type": "code",
   "execution_count": 64,
   "id": "ce6cb182",
   "metadata": {},
   "outputs": [
    {
     "data": {
      "text/plain": [
       "array([0, 1, 0, ..., 0, 0, 0], dtype=int64)"
      ]
     },
     "execution_count": 64,
     "metadata": {},
     "output_type": "execute_result"
    }
   ],
   "source": [
    "c=mnb.predict(x)\n",
    "c"
   ]
  },
  {
   "cell_type": "code",
   "execution_count": 65,
   "id": "9cf25f78",
   "metadata": {},
   "outputs": [
    {
     "data": {
      "text/plain": [
       "0.7362991618310767"
      ]
     },
     "execution_count": 65,
     "metadata": {},
     "output_type": "execute_result"
    }
   ],
   "source": [
    "acc=asc(y,c)\n",
    "acc"
   ]
  },
  {
   "cell_type": "markdown",
   "id": "d4e25159",
   "metadata": {},
   "source": [
    "# Using RF AND DT"
   ]
  },
  {
   "cell_type": "code",
   "execution_count": 85,
   "id": "a8731353",
   "metadata": {},
   "outputs": [
    {
     "name": "stdout",
     "output_type": "stream",
     "text": [
      "Accuracy Score when i= 0 is 0.9080163335482484\n",
      "Accuracy Score when i= 1 is 0.9075865033311842\n",
      "Accuracy Score when i= 2 is 0.90715667311412\n",
      "Accuracy Score when i= 3 is 0.9078014184397163\n",
      "Accuracy Score when i= 4 is 0.90715667311412\n",
      "Accuracy Score when i= 5 is 0.9082312486567806\n",
      "Accuracy Score when i= 6 is 0.9073715882226521\n",
      "Accuracy Score when i= 7 is 0.9082312486567806\n",
      "Accuracy Score when i= 8 is 0.9086610788738448\n",
      "Accuracy Score when i= 9 is 0.9075865033311842\n",
      "Accuracy Score when i= 10 is 0.9075865033311842\n",
      "Accuracy Score when i= 11 is 0.9075865033311842\n",
      "Accuracy Score when i= 12 is 0.9069417580055877\n",
      "Accuracy Score when i= 13 is 0.9075865033311842\n",
      "Accuracy Score when i= 14 is 0.9084461637653127\n",
      "Accuracy Score when i= 15 is 0.9084461637653127\n",
      "Accuracy Score when i= 16 is 0.9082312486567806\n",
      "Accuracy Score when i= 17 is 0.9086610788738448\n",
      "Accuracy Score when i= 18 is 0.9075865033311842\n",
      "Accuracy Score when i= 19 is 0.9069417580055877\n",
      "Accuracy Score when i= 20 is 0.9075865033311842\n",
      "Accuracy Score when i= 21 is 0.9082312486567806\n",
      "Accuracy Score when i= 22 is 0.9067268428970556\n",
      "Accuracy Score when i= 23 is 0.90715667311412\n",
      "Accuracy Score when i= 24 is 0.9073715882226521\n",
      "Accuracy Score when i= 25 is 0.9084461637653127\n",
      "Accuracy Score when i= 26 is 0.9082312486567806\n",
      "Accuracy Score when i= 27 is 0.9080163335482484\n",
      "Accuracy Score when i= 28 is 0.9075865033311842\n",
      "Accuracy Score when i= 29 is 0.9073715882226521\n",
      "Accuracy Score when i= 30 is 0.9075865033311842\n",
      "Accuracy Score when i= 31 is 0.9080163335482484\n",
      "Accuracy Score when i= 32 is 0.9075865033311842\n",
      "Accuracy Score when i= 33 is 0.9073715882226521\n",
      "Accuracy Score when i= 34 is 0.9073715882226521\n",
      "Accuracy Score when i= 35 is 0.9069417580055877\n",
      "Accuracy Score when i= 36 is 0.9078014184397163\n",
      "Accuracy Score when i= 37 is 0.9078014184397163\n",
      "Accuracy Score when i= 38 is 0.9078014184397163\n",
      "Accuracy Score when i= 39 is 0.9073715882226521\n",
      "Accuracy Score when i= 40 is 0.9084461637653127\n",
      "Accuracy Score when i= 41 is 0.90715667311412\n",
      "Accuracy Score when i= 42 is 0.9067268428970556\n",
      "Accuracy Score when i= 43 is 0.9078014184397163\n",
      "Accuracy Score when i= 44 is 0.9080163335482484\n",
      "Accuracy Score when i= 45 is 0.90715667311412\n",
      "Accuracy Score when i= 46 is 0.9082312486567806\n",
      "Accuracy Score when i= 47 is 0.9067268428970556\n",
      "Accuracy Score when i= 48 is 0.9078014184397163\n",
      "Accuracy Score when i= 49 is 0.9078014184397163\n",
      "Highest Accuracy is at i= 8 of 0.9086610788738448\n"
     ]
    }
   ],
   "source": [
    "lst=[]\n",
    "from sklearn.metrics import accuracy_score\n",
    "for i in range(50):\n",
    "    a=DecisionTreeClassifier(min_samples_split=i)\n",
    "    dt.fit(x_train,y_train)\n",
    "    b=dt.predict(x)\n",
    "    acc=accuracy_score(y,b)\n",
    "    print(\"Accuracy Score when i=\",i,\"is\",acc)\n",
    "    lst.append(acc)\n",
    "max=max(lst)\n",
    "print(\"Highest Accuracy is at i=\",lst.index(max),\"of\",max)\n",
    "    "
   ]
  },
  {
   "cell_type": "code",
   "execution_count": 89,
   "id": "b1d7f125",
   "metadata": {},
   "outputs": [
    {
     "name": "stdout",
     "output_type": "stream",
     "text": [
      "Accuracy Score when i= 1 is 0.43418727481166086\n",
      "Accuracy Score when i= 2 is 0.4322821814608584\n",
      "Accuracy Score when i= 3 is 0.5265843023255816\n",
      "Accuracy Score when i= 4 is 0.5161062888961678\n",
      "Accuracy Score when i= 5 is 0.5542081559122176\n",
      "Accuracy Score when i= 6 is 0.536109769079594\n",
      "Accuracy Score when i= 7 is 0.5742116360956437\n",
      "Accuracy Score when i= 8 is 0.57897436947265\n",
      "Accuracy Score when i= 9 is 0.5837371028496563\n",
      "Accuracy Score when i= 10 is 0.57897436947265\n",
      "Accuracy Score when i= 11 is 0.5827845561742551\n",
      "Accuracy Score when i= 12 is 0.57897436947265\n",
      "Accuracy Score when i= 13 is 0.5856421962004588\n",
      "Accuracy Score when i= 14 is 0.5961202096298723\n",
      "Accuracy Score when i= 15 is 0.5932625696036686\n",
      "Accuracy Score when i= 16 is 0.5913574762528662\n",
      "Accuracy Score when i= 17 is 0.5942151162790699\n",
      "Accuracy Score when i= 18 is 0.5961202096298723\n",
      "Accuracy Score when i= 19 is 0.60183548968228\n",
      "Accuracy Score when i= 20 is 0.5942151162790699\n",
      "Accuracy Score when i= 21 is 0.5970727563052737\n",
      "Accuracy Score when i= 22 is 0.5913574762528662\n",
      "Accuracy Score when i= 23 is 0.5961202096298723\n",
      "Accuracy Score when i= 24 is 0.5942151162790699\n",
      "Accuracy Score when i= 25 is 0.60183548968228\n",
      "Accuracy Score when i= 26 is 0.6027880363576812\n",
      "Accuracy Score when i= 27 is 0.6037405830330824\n",
      "Accuracy Score when i= 28 is 0.6008829430068786\n",
      "Accuracy Score when i= 29 is 0.6094558630854898\n",
      "Accuracy Score when i= 30 is 0.6104084097608911\n",
      "Accuracy Score when i= 31 is 0.5999303963314774\n",
      "Accuracy Score when i= 32 is 0.6094558630854898\n",
      "Accuracy Score when i= 33 is 0.6027880363576812\n",
      "Accuracy Score when i= 34 is 0.6008829430068786\n",
      "Accuracy Score when i= 35 is 0.6113609564362923\n",
      "Accuracy Score when i= 36 is 0.6065982230592861\n",
      "Accuracy Score when i= 37 is 0.60183548968228\n",
      "Accuracy Score when i= 38 is 0.6161236898132986\n",
      "Accuracy Score when i= 39 is 0.6123135031116935\n",
      "Accuracy Score when i= 40 is 0.5961202096298723\n",
      "Accuracy Score when i= 41 is 0.6027880363576812\n",
      "Accuracy Score when i= 42 is 0.6037405830330824\n",
      "Accuracy Score when i= 43 is 0.6085033164100886\n",
      "Accuracy Score when i= 44 is 0.6085033164100886\n",
      "Accuracy Score when i= 45 is 0.6075507697346874\n",
      "Accuracy Score when i= 46 is 0.6065982230592861\n",
      "Accuracy Score when i= 47 is 0.6008829430068786\n",
      "Accuracy Score when i= 48 is 0.6065982230592861\n",
      "Accuracy Score when i= 49 is 0.60183548968228\n"
     ]
    }
   ],
   "source": [
    "from sklearn.ensemble import RandomForestClassifier\n",
    "from sklearn.metrics import accuracy_score,r2_score as rs\n",
    "from sklearn.metrics import mean_squared_error as mse\n",
    "lst1=[]\n",
    "for i in range(1,50):\n",
    "    rf=RandomForestClassifier(n_estimators=i)\n",
    "    rf.fit(x_train,y_train)\n",
    "    a=rf.predict(x)\n",
    "    acc2=rs(y,a)\n",
    "    print(\"Accuracy Score when i=\",i,\"is\",acc2)"
   ]
  },
  {
   "cell_type": "code",
   "execution_count": 83,
   "id": "e6e9640f",
   "metadata": {},
   "outputs": [
    {
     "name": "stdout",
     "output_type": "stream",
     "text": [
      "0.4818146085817231\n",
      "0.33226478054372777\n",
      "0.368461554208975\n",
      "0.2589186865378319\n",
      "0.2979731002292829\n",
      "0.21510153946937471\n",
      "0.21700663282017718\n",
      "0.18271495250573233\n",
      "0.20271843268915857\n",
      "0.12841979200786147\n",
      "0.15318600556829376\n",
      "0.13413507206026887\n",
      "0.16080637897150374\n",
      "0.11889432525384902\n",
      "0.14461308548968266\n",
      "0.11794177857844779\n",
      "0.1455656321650839\n",
      "0.07602972486079307\n",
      "0.10936885849983657\n",
      "0.07412463150999049\n",
      "0.08365009826400294\n",
      "0.07507717818539172\n",
      "0.0769822715361943\n",
      "0.03507021781853947\n",
      "0.05697879135276818\n",
      "0.029354937766132072\n",
      "0.04459568457255192\n",
      "0.012209097608909647\n",
      "0.043643137897150686\n",
      "0.029354937766132072\n",
      "0.03507021781853947\n",
      "0.0055412708811009015\n",
      "0.02649729773992826\n",
      "-0.0001740091713064995\n",
      "0.02363965771372456\n",
      "0.002683630854897201\n",
      "0.009351457582705947\n",
      "-0.024940222731738793\n"
     ]
    }
   ],
   "source": [
    "for i in range(1,39):\n",
    "    from sklearn.neighbors import KNeighborsClassifier\n",
    "    from sklearn.metrics import r2_score\n",
    "    knr=KNeighborsClassifier(n_neighbors=i)\n",
    "    knr.fit(x_train,y_train)\n",
    "    a=knr.predict(x)\n",
    "    acc=r2_score(y,a)\n",
    "    print(acc)"
   ]
  },
  {
   "cell_type": "code",
   "execution_count": 82,
   "id": "7bfc53e6",
   "metadata": {},
   "outputs": [
    {
     "data": {
      "text/plain": [
       "array([0.23684211, 0.78947368, 0.31578947, ..., 0.65789474, 0.31578947,\n",
       "       0.07894737])"
      ]
     },
     "execution_count": 82,
     "metadata": {},
     "output_type": "execute_result"
    }
   ],
   "source": []
  },
  {
   "cell_type": "code",
   "execution_count": null,
   "id": "3586bd99",
   "metadata": {},
   "outputs": [],
   "source": []
  }
 ],
 "metadata": {
  "kernelspec": {
   "display_name": "Python 3 (ipykernel)",
   "language": "python",
   "name": "python3"
  },
  "language_info": {
   "codemirror_mode": {
    "name": "ipython",
    "version": 3
   },
   "file_extension": ".py",
   "mimetype": "text/x-python",
   "name": "python",
   "nbconvert_exporter": "python",
   "pygments_lexer": "ipython3",
   "version": "3.9.12"
  }
 },
 "nbformat": 4,
 "nbformat_minor": 5
}
