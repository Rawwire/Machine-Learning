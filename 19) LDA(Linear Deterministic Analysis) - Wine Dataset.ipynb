{
 "cells": [
  {
   "cell_type": "code",
   "execution_count": 1,
   "id": "bcecd836",
   "metadata": {},
   "outputs": [],
   "source": [
    "import numpy as np\n",
    "import pandas as pd\n",
    "import matplotlib.pyplot as plt"
   ]
  },
  {
   "cell_type": "code",
   "execution_count": 2,
   "id": "b304e205",
   "metadata": {},
   "outputs": [
    {
     "data": {
      "text/html": [
       "<div>\n",
       "<style scoped>\n",
       "    .dataframe tbody tr th:only-of-type {\n",
       "        vertical-align: middle;\n",
       "    }\n",
       "\n",
       "    .dataframe tbody tr th {\n",
       "        vertical-align: top;\n",
       "    }\n",
       "\n",
       "    .dataframe thead th {\n",
       "        text-align: right;\n",
       "    }\n",
       "</style>\n",
       "<table border=\"1\" class=\"dataframe\">\n",
       "  <thead>\n",
       "    <tr style=\"text-align: right;\">\n",
       "      <th></th>\n",
       "      <th>Alcohol</th>\n",
       "      <th>Malic_Acid</th>\n",
       "      <th>Ash</th>\n",
       "      <th>Ash_Alcanity</th>\n",
       "      <th>Magnesium</th>\n",
       "      <th>Total_Phenols</th>\n",
       "      <th>Flavanoids</th>\n",
       "      <th>Nonflavanoid_Phenols</th>\n",
       "      <th>Proanthocyanins</th>\n",
       "      <th>Color_Intensity</th>\n",
       "      <th>Hue</th>\n",
       "      <th>OD280</th>\n",
       "      <th>Proline</th>\n",
       "      <th>Customer_Segment</th>\n",
       "    </tr>\n",
       "  </thead>\n",
       "  <tbody>\n",
       "    <tr>\n",
       "      <th>0</th>\n",
       "      <td>14.23</td>\n",
       "      <td>1.71</td>\n",
       "      <td>2.43</td>\n",
       "      <td>15.6</td>\n",
       "      <td>127</td>\n",
       "      <td>2.80</td>\n",
       "      <td>3.06</td>\n",
       "      <td>0.28</td>\n",
       "      <td>2.29</td>\n",
       "      <td>5.64</td>\n",
       "      <td>1.04</td>\n",
       "      <td>3.92</td>\n",
       "      <td>1065</td>\n",
       "      <td>1</td>\n",
       "    </tr>\n",
       "    <tr>\n",
       "      <th>1</th>\n",
       "      <td>13.20</td>\n",
       "      <td>1.78</td>\n",
       "      <td>2.14</td>\n",
       "      <td>11.2</td>\n",
       "      <td>100</td>\n",
       "      <td>2.65</td>\n",
       "      <td>2.76</td>\n",
       "      <td>0.26</td>\n",
       "      <td>1.28</td>\n",
       "      <td>4.38</td>\n",
       "      <td>1.05</td>\n",
       "      <td>3.40</td>\n",
       "      <td>1050</td>\n",
       "      <td>1</td>\n",
       "    </tr>\n",
       "    <tr>\n",
       "      <th>2</th>\n",
       "      <td>13.16</td>\n",
       "      <td>2.36</td>\n",
       "      <td>2.67</td>\n",
       "      <td>18.6</td>\n",
       "      <td>101</td>\n",
       "      <td>2.80</td>\n",
       "      <td>3.24</td>\n",
       "      <td>0.30</td>\n",
       "      <td>2.81</td>\n",
       "      <td>5.68</td>\n",
       "      <td>1.03</td>\n",
       "      <td>3.17</td>\n",
       "      <td>1185</td>\n",
       "      <td>1</td>\n",
       "    </tr>\n",
       "    <tr>\n",
       "      <th>3</th>\n",
       "      <td>14.37</td>\n",
       "      <td>1.95</td>\n",
       "      <td>2.50</td>\n",
       "      <td>16.8</td>\n",
       "      <td>113</td>\n",
       "      <td>3.85</td>\n",
       "      <td>3.49</td>\n",
       "      <td>0.24</td>\n",
       "      <td>2.18</td>\n",
       "      <td>7.80</td>\n",
       "      <td>0.86</td>\n",
       "      <td>3.45</td>\n",
       "      <td>1480</td>\n",
       "      <td>1</td>\n",
       "    </tr>\n",
       "    <tr>\n",
       "      <th>4</th>\n",
       "      <td>13.24</td>\n",
       "      <td>2.59</td>\n",
       "      <td>2.87</td>\n",
       "      <td>21.0</td>\n",
       "      <td>118</td>\n",
       "      <td>2.80</td>\n",
       "      <td>2.69</td>\n",
       "      <td>0.39</td>\n",
       "      <td>1.82</td>\n",
       "      <td>4.32</td>\n",
       "      <td>1.04</td>\n",
       "      <td>2.93</td>\n",
       "      <td>735</td>\n",
       "      <td>1</td>\n",
       "    </tr>\n",
       "    <tr>\n",
       "      <th>...</th>\n",
       "      <td>...</td>\n",
       "      <td>...</td>\n",
       "      <td>...</td>\n",
       "      <td>...</td>\n",
       "      <td>...</td>\n",
       "      <td>...</td>\n",
       "      <td>...</td>\n",
       "      <td>...</td>\n",
       "      <td>...</td>\n",
       "      <td>...</td>\n",
       "      <td>...</td>\n",
       "      <td>...</td>\n",
       "      <td>...</td>\n",
       "      <td>...</td>\n",
       "    </tr>\n",
       "    <tr>\n",
       "      <th>173</th>\n",
       "      <td>13.71</td>\n",
       "      <td>5.65</td>\n",
       "      <td>2.45</td>\n",
       "      <td>20.5</td>\n",
       "      <td>95</td>\n",
       "      <td>1.68</td>\n",
       "      <td>0.61</td>\n",
       "      <td>0.52</td>\n",
       "      <td>1.06</td>\n",
       "      <td>7.70</td>\n",
       "      <td>0.64</td>\n",
       "      <td>1.74</td>\n",
       "      <td>740</td>\n",
       "      <td>3</td>\n",
       "    </tr>\n",
       "    <tr>\n",
       "      <th>174</th>\n",
       "      <td>13.40</td>\n",
       "      <td>3.91</td>\n",
       "      <td>2.48</td>\n",
       "      <td>23.0</td>\n",
       "      <td>102</td>\n",
       "      <td>1.80</td>\n",
       "      <td>0.75</td>\n",
       "      <td>0.43</td>\n",
       "      <td>1.41</td>\n",
       "      <td>7.30</td>\n",
       "      <td>0.70</td>\n",
       "      <td>1.56</td>\n",
       "      <td>750</td>\n",
       "      <td>3</td>\n",
       "    </tr>\n",
       "    <tr>\n",
       "      <th>175</th>\n",
       "      <td>13.27</td>\n",
       "      <td>4.28</td>\n",
       "      <td>2.26</td>\n",
       "      <td>20.0</td>\n",
       "      <td>120</td>\n",
       "      <td>1.59</td>\n",
       "      <td>0.69</td>\n",
       "      <td>0.43</td>\n",
       "      <td>1.35</td>\n",
       "      <td>10.20</td>\n",
       "      <td>0.59</td>\n",
       "      <td>1.56</td>\n",
       "      <td>835</td>\n",
       "      <td>3</td>\n",
       "    </tr>\n",
       "    <tr>\n",
       "      <th>176</th>\n",
       "      <td>13.17</td>\n",
       "      <td>2.59</td>\n",
       "      <td>2.37</td>\n",
       "      <td>20.0</td>\n",
       "      <td>120</td>\n",
       "      <td>1.65</td>\n",
       "      <td>0.68</td>\n",
       "      <td>0.53</td>\n",
       "      <td>1.46</td>\n",
       "      <td>9.30</td>\n",
       "      <td>0.60</td>\n",
       "      <td>1.62</td>\n",
       "      <td>840</td>\n",
       "      <td>3</td>\n",
       "    </tr>\n",
       "    <tr>\n",
       "      <th>177</th>\n",
       "      <td>14.13</td>\n",
       "      <td>4.10</td>\n",
       "      <td>2.74</td>\n",
       "      <td>24.5</td>\n",
       "      <td>96</td>\n",
       "      <td>2.05</td>\n",
       "      <td>0.76</td>\n",
       "      <td>0.56</td>\n",
       "      <td>1.35</td>\n",
       "      <td>9.20</td>\n",
       "      <td>0.61</td>\n",
       "      <td>1.60</td>\n",
       "      <td>560</td>\n",
       "      <td>3</td>\n",
       "    </tr>\n",
       "  </tbody>\n",
       "</table>\n",
       "<p>178 rows × 14 columns</p>\n",
       "</div>"
      ],
      "text/plain": [
       "     Alcohol  Malic_Acid   Ash  Ash_Alcanity  Magnesium  Total_Phenols  \\\n",
       "0      14.23        1.71  2.43          15.6        127           2.80   \n",
       "1      13.20        1.78  2.14          11.2        100           2.65   \n",
       "2      13.16        2.36  2.67          18.6        101           2.80   \n",
       "3      14.37        1.95  2.50          16.8        113           3.85   \n",
       "4      13.24        2.59  2.87          21.0        118           2.80   \n",
       "..       ...         ...   ...           ...        ...            ...   \n",
       "173    13.71        5.65  2.45          20.5         95           1.68   \n",
       "174    13.40        3.91  2.48          23.0        102           1.80   \n",
       "175    13.27        4.28  2.26          20.0        120           1.59   \n",
       "176    13.17        2.59  2.37          20.0        120           1.65   \n",
       "177    14.13        4.10  2.74          24.5         96           2.05   \n",
       "\n",
       "     Flavanoids  Nonflavanoid_Phenols  Proanthocyanins  Color_Intensity   Hue  \\\n",
       "0          3.06                  0.28             2.29             5.64  1.04   \n",
       "1          2.76                  0.26             1.28             4.38  1.05   \n",
       "2          3.24                  0.30             2.81             5.68  1.03   \n",
       "3          3.49                  0.24             2.18             7.80  0.86   \n",
       "4          2.69                  0.39             1.82             4.32  1.04   \n",
       "..          ...                   ...              ...              ...   ...   \n",
       "173        0.61                  0.52             1.06             7.70  0.64   \n",
       "174        0.75                  0.43             1.41             7.30  0.70   \n",
       "175        0.69                  0.43             1.35            10.20  0.59   \n",
       "176        0.68                  0.53             1.46             9.30  0.60   \n",
       "177        0.76                  0.56             1.35             9.20  0.61   \n",
       "\n",
       "     OD280  Proline  Customer_Segment  \n",
       "0     3.92     1065                 1  \n",
       "1     3.40     1050                 1  \n",
       "2     3.17     1185                 1  \n",
       "3     3.45     1480                 1  \n",
       "4     2.93      735                 1  \n",
       "..     ...      ...               ...  \n",
       "173   1.74      740                 3  \n",
       "174   1.56      750                 3  \n",
       "175   1.56      835                 3  \n",
       "176   1.62      840                 3  \n",
       "177   1.60      560                 3  \n",
       "\n",
       "[178 rows x 14 columns]"
      ]
     },
     "execution_count": 2,
     "metadata": {},
     "output_type": "execute_result"
    }
   ],
   "source": [
    "file=pd.read_csv(\"D:\\Acmegrade\\Files\\Wine.csv\")\n",
    "file"
   ]
  },
  {
   "cell_type": "code",
   "execution_count": 4,
   "id": "223ef8ea",
   "metadata": {},
   "outputs": [
    {
     "data": {
      "text/plain": [
       "array([[1.423e+01, 1.710e+00, 2.430e+00, ..., 1.040e+00, 3.920e+00,\n",
       "        1.065e+03],\n",
       "       [1.320e+01, 1.780e+00, 2.140e+00, ..., 1.050e+00, 3.400e+00,\n",
       "        1.050e+03],\n",
       "       [1.316e+01, 2.360e+00, 2.670e+00, ..., 1.030e+00, 3.170e+00,\n",
       "        1.185e+03],\n",
       "       ...,\n",
       "       [1.327e+01, 4.280e+00, 2.260e+00, ..., 5.900e-01, 1.560e+00,\n",
       "        8.350e+02],\n",
       "       [1.317e+01, 2.590e+00, 2.370e+00, ..., 6.000e-01, 1.620e+00,\n",
       "        8.400e+02],\n",
       "       [1.413e+01, 4.100e+00, 2.740e+00, ..., 6.100e-01, 1.600e+00,\n",
       "        5.600e+02]])"
      ]
     },
     "execution_count": 4,
     "metadata": {},
     "output_type": "execute_result"
    }
   ],
   "source": [
    "x=file.iloc[:,0:13].values\n",
    "x"
   ]
  },
  {
   "cell_type": "code",
   "execution_count": 5,
   "id": "dda3b659",
   "metadata": {},
   "outputs": [
    {
     "data": {
      "text/plain": [
       "array([1, 1, 1, 1, 1, 1, 1, 1, 1, 1, 1, 1, 1, 1, 1, 1, 1, 1, 1, 1, 1, 1,\n",
       "       1, 1, 1, 1, 1, 1, 1, 1, 1, 1, 1, 1, 1, 1, 1, 1, 1, 1, 1, 1, 1, 1,\n",
       "       1, 1, 1, 1, 1, 1, 1, 1, 1, 1, 1, 1, 1, 1, 1, 2, 2, 2, 2, 2, 2, 2,\n",
       "       2, 2, 2, 2, 2, 2, 2, 2, 2, 2, 2, 2, 2, 2, 2, 2, 2, 2, 2, 2, 2, 2,\n",
       "       2, 2, 2, 2, 2, 2, 2, 2, 2, 2, 2, 2, 2, 2, 2, 2, 2, 2, 2, 2, 2, 2,\n",
       "       2, 2, 2, 2, 2, 2, 2, 2, 2, 2, 2, 2, 2, 2, 2, 2, 2, 2, 2, 2, 3, 3,\n",
       "       3, 3, 3, 3, 3, 3, 3, 3, 3, 3, 3, 3, 3, 3, 3, 3, 3, 3, 3, 3, 3, 3,\n",
       "       3, 3, 3, 3, 3, 3, 3, 3, 3, 3, 3, 3, 3, 3, 3, 3, 3, 3, 3, 3, 3, 3,\n",
       "       3, 3], dtype=int64)"
      ]
     },
     "execution_count": 5,
     "metadata": {},
     "output_type": "execute_result"
    }
   ],
   "source": [
    "y=file.iloc[:,13].values\n",
    "y"
   ]
  },
  {
   "cell_type": "code",
   "execution_count": 6,
   "id": "d8616d89",
   "metadata": {},
   "outputs": [],
   "source": [
    "from sklearn.preprocessing import StandardScaler\n",
    "ss=StandardScaler()\n",
    "x=ss.fit_transform(x)"
   ]
  },
  {
   "cell_type": "code",
   "execution_count": 7,
   "id": "c08db09e",
   "metadata": {},
   "outputs": [
    {
     "data": {
      "text/plain": [
       "array([[ 1.51861254, -0.5622498 ,  0.23205254, ...,  0.36217728,\n",
       "         1.84791957,  1.01300893],\n",
       "       [ 0.24628963, -0.49941338, -0.82799632, ...,  0.40605066,\n",
       "         1.1134493 ,  0.96524152],\n",
       "       [ 0.19687903,  0.02123125,  1.10933436, ...,  0.31830389,\n",
       "         0.78858745,  1.39514818],\n",
       "       ...,\n",
       "       [ 0.33275817,  1.74474449, -0.38935541, ..., -1.61212515,\n",
       "        -1.48544548,  0.28057537],\n",
       "       [ 0.20923168,  0.22769377,  0.01273209, ..., -1.56825176,\n",
       "        -1.40069891,  0.29649784],\n",
       "       [ 1.39508604,  1.58316512,  1.36520822, ..., -1.52437837,\n",
       "        -1.42894777, -0.59516041]])"
      ]
     },
     "execution_count": 7,
     "metadata": {},
     "output_type": "execute_result"
    }
   ],
   "source": [
    "x"
   ]
  },
  {
   "cell_type": "code",
   "execution_count": 9,
   "id": "8683885a",
   "metadata": {},
   "outputs": [],
   "source": [
    "from sklearn.decomposition import PCA\n",
    "pca=PCA(n_components=2)\n",
    "pca_x=pca.fit_transform(x)\n"
   ]
  },
  {
   "cell_type": "code",
   "execution_count": 11,
   "id": "e4f02dba",
   "metadata": {},
   "outputs": [
    {
     "data": {
      "text/plain": [
       "array([0.36198848, 0.1920749 ])"
      ]
     },
     "execution_count": 11,
     "metadata": {},
     "output_type": "execute_result"
    }
   ],
   "source": [
    "pca.explained_variance_ratio_"
   ]
  },
  {
   "cell_type": "code",
   "execution_count": 20,
   "id": "ae5a0a20",
   "metadata": {},
   "outputs": [
    {
     "data": {
      "text/plain": [
       "LogisticRegression()"
      ]
     },
     "execution_count": 20,
     "metadata": {},
     "output_type": "execute_result"
    }
   ],
   "source": [
    "from sklearn.model_selection import train_test_split\n",
    "pca_train,pca_test,y_train,y_test=train_test_split(pca_x,y,test_size=0.2, random_state=42)\n",
    "from sklearn.linear_model import LogisticRegression\n",
    "lr=LogisticRegression()\n",
    "lr.fit(pca_train,y_train)"
   ]
  },
  {
   "cell_type": "code",
   "execution_count": 21,
   "id": "7ef7b50d",
   "metadata": {},
   "outputs": [
    {
     "data": {
      "text/plain": [
       "array([1, 1, 3, 1, 2, 1, 2, 3, 2, 3, 1, 3, 1, 2, 1, 2, 2, 2, 1, 2, 1, 2,\n",
       "       2, 3, 3, 3, 2, 2, 2, 1, 1, 2, 3, 1, 1, 1], dtype=int64)"
      ]
     },
     "execution_count": 21,
     "metadata": {},
     "output_type": "execute_result"
    }
   ],
   "source": [
    "lr_pred=lr.predict(pca_test)\n",
    "lr_pred"
   ]
  },
  {
   "cell_type": "code",
   "execution_count": 22,
   "id": "2b738f1b",
   "metadata": {},
   "outputs": [],
   "source": [
    "from sklearn.metrics import accuracy_score as acs\n",
    "lrpca_acc=acs(y_test,lr_pred)"
   ]
  },
  {
   "cell_type": "code",
   "execution_count": 23,
   "id": "4cb221c4",
   "metadata": {},
   "outputs": [
    {
     "data": {
      "text/plain": [
       "1.0"
      ]
     },
     "execution_count": 23,
     "metadata": {},
     "output_type": "execute_result"
    }
   ],
   "source": [
    "lrpca_acc"
   ]
  },
  {
   "cell_type": "code",
   "execution_count": 26,
   "id": "c21f6928",
   "metadata": {},
   "outputs": [
    {
     "data": {
      "text/plain": [
       "DecisionTreeClassifier()"
      ]
     },
     "execution_count": 26,
     "metadata": {},
     "output_type": "execute_result"
    }
   ],
   "source": [
    "from sklearn.tree import DecisionTreeClassifier\n",
    "dt=DecisionTreeClassifier()\n",
    "dt.fit(pca_train,y_train)"
   ]
  },
  {
   "cell_type": "code",
   "execution_count": 27,
   "id": "5d6f1c49",
   "metadata": {},
   "outputs": [
    {
     "data": {
      "text/plain": [
       "array([1, 1, 3, 1, 2, 1, 2, 3, 2, 3, 1, 3, 1, 2, 1, 2, 2, 2, 1, 2, 1, 2,\n",
       "       2, 3, 3, 3, 2, 2, 2, 1, 1, 2, 3, 1, 1, 1], dtype=int64)"
      ]
     },
     "execution_count": 27,
     "metadata": {},
     "output_type": "execute_result"
    }
   ],
   "source": [
    "dt_pred=dt.predict(pca_test)\n",
    "dt_pred"
   ]
  },
  {
   "cell_type": "code",
   "execution_count": 28,
   "id": "f8c1c542",
   "metadata": {},
   "outputs": [
    {
     "data": {
      "text/plain": [
       "1.0"
      ]
     },
     "execution_count": 28,
     "metadata": {},
     "output_type": "execute_result"
    }
   ],
   "source": [
    "dtpca_acc=acs(y_test,dt_pred)\n",
    "dtpca_acc"
   ]
  },
  {
   "cell_type": "code",
   "execution_count": 30,
   "id": "c2285ae4",
   "metadata": {},
   "outputs": [],
   "source": [
    "from sklearn.discriminant_analysis import LinearDiscriminantAnalysis as LDA\n",
    "lda=LDA()\n",
    "lda_x=lda.fit_transform(x,y)"
   ]
  },
  {
   "cell_type": "code",
   "execution_count": 31,
   "id": "268ef54f",
   "metadata": {},
   "outputs": [
    {
     "data": {
      "text/plain": [
       "array([[ 4.70024401,  1.97913835],\n",
       "       [ 4.30195811,  1.17041286],\n",
       "       [ 3.42071952,  1.42910139],\n",
       "       [ 4.20575366,  4.00287148],\n",
       "       [ 1.50998168,  0.4512239 ],\n",
       "       [ 4.51868934,  3.21313756],\n",
       "       [ 4.52737794,  3.26912179],\n",
       "       [ 4.14834781,  3.10411765],\n",
       "       [ 3.86082876,  1.95338263],\n",
       "       [ 3.36662444,  1.67864327],\n",
       "       [ 4.80587907,  2.23536271],\n",
       "       [ 3.42807646,  2.17510939],\n",
       "       [ 3.66610246,  2.26248961],\n",
       "       [ 5.58824635,  2.05478773],\n",
       "       [ 5.50131449,  3.61304865],\n",
       "       [ 3.18475189,  2.88952528],\n",
       "       [ 3.28936988,  2.76584266],\n",
       "       [ 2.99809262,  1.42511132],\n",
       "       [ 5.24640372,  3.70982655],\n",
       "       [ 3.13653106,  1.97689922],\n",
       "       [ 3.57747791,  0.5624599 ],\n",
       "       [ 1.69077135,  0.91342136],\n",
       "       [ 4.83515033,  0.9147628 ],\n",
       "       [ 3.09588961,  0.61735888],\n",
       "       [ 3.32164716,  0.29847734],\n",
       "       [ 2.14482223,  0.16369247],\n",
       "       [ 3.9824285 ,  2.17515679],\n",
       "       [ 2.68591432,  1.21850924],\n",
       "       [ 3.56309464,  1.03817651],\n",
       "       [ 3.17301573,  1.37789624],\n",
       "       [ 2.99626797,  1.32419896],\n",
       "       [ 3.56866244,  2.34065478],\n",
       "       [ 3.38506383,  0.20123426],\n",
       "       [ 3.5275375 ,  1.71592739],\n",
       "       [ 2.85190852,  1.47070771],\n",
       "       [ 2.79411996,  0.23793093],\n",
       "       [ 2.75808511,  1.56970421],\n",
       "       [ 2.17734477,  1.01036455],\n",
       "       [ 3.02926382, -0.23509583],\n",
       "       [ 3.27105228,  2.6040459 ],\n",
       "       [ 2.92065533,  0.25523343],\n",
       "       [ 2.23721062,  0.91946116],\n",
       "       [ 4.69972568,  2.56075339],\n",
       "       [ 1.23036133,  0.42259515],\n",
       "       [ 2.58203904, -0.35029195],\n",
       "       [ 2.58312049,  2.87686572],\n",
       "       [ 3.88887889,  2.05160408],\n",
       "       [ 3.44975356,  0.95183917],\n",
       "       [ 2.34223331,  1.4325895 ],\n",
       "       [ 3.52062596,  2.08155356],\n",
       "       [ 3.21840912,  0.8791287 ],\n",
       "       [ 4.38214896,  2.16471573],\n",
       "       [ 4.36311727,  2.27182928],\n",
       "       [ 3.51917293,  3.00737373],\n",
       "       [ 3.12277475,  1.59356669],\n",
       "       [ 1.8024054 ,  1.33006156],\n",
       "       [ 2.87378754,  1.72989942],\n",
       "       [ 3.61690518,  2.29115753],\n",
       "       [ 3.73868551,  2.46011803],\n",
       "       [-1.58618749, -2.42384416],\n",
       "       [-0.79967216, -1.39406461],\n",
       "       [-2.38015446, -1.45188659],\n",
       "       [ 0.45917726, -1.19045365],\n",
       "       [ 0.50726885, -3.16662403],\n",
       "       [-0.39398359, -2.7798417 ],\n",
       "       [ 0.92256616, -1.38872368],\n",
       "       [ 1.95549377, -2.69360629],\n",
       "       [ 0.34732815, -2.59289903],\n",
       "       [-0.20371212,  0.01962135],\n",
       "       [ 0.24831914, -2.7561761 ],\n",
       "       [-1.17987999, -0.90034277],\n",
       "       [ 1.07718925, -1.82670118],\n",
       "       [-0.64100179, -1.44531367],\n",
       "       [ 1.74684421, -1.78455859],\n",
       "       [ 0.34721117, -1.48810682],\n",
       "       [-1.14274222, -3.089249  ],\n",
       "       [-0.18665882, -2.67317096],\n",
       "       [-0.900525  , -1.81942357],\n",
       "       [ 0.70709551, -2.12304449],\n",
       "       [ 0.59562833, -2.48962245],\n",
       "       [ 0.55761818, -4.65303778],\n",
       "       [ 1.80430417, -1.48714945],\n",
       "       [-0.23077079, -2.84287547],\n",
       "       [-2.03482711, -0.79032003],\n",
       "       [ 0.62113021, -1.69689588],\n",
       "       [ 1.03372742, -2.44143762],\n",
       "       [-0.76598781, -3.44641402],\n",
       "       [-0.35042568, -3.22935698],\n",
       "       [-0.15324508, -2.11287767],\n",
       "       [ 0.14962842, -2.9919321 ],\n",
       "       [-0.48079504, -2.54002408],\n",
       "       [-1.39689016, -2.54082291],\n",
       "       [-0.91972331, -2.24859665],\n",
       "       [ 0.59102937, -2.93845393],\n",
       "       [-0.49411386, -2.93631076],\n",
       "       [ 1.62614426, -2.02049545],\n",
       "       [-2.00044562, -0.63448464],\n",
       "       [ 1.00534818, -3.33112586],\n",
       "       [ 2.07121314, -2.7144542 ],\n",
       "       [ 1.6381589 , -3.87739654],\n",
       "       [ 1.0589434 , -2.99987263],\n",
       "       [-0.02594549, -2.35411388],\n",
       "       [ 0.21887407, -1.64289601],\n",
       "       [-1.3643764 , -3.81747174],\n",
       "       [ 1.12901245, -2.32685245],\n",
       "       [ 0.21263094, -2.99677582],\n",
       "       [ 0.77946884, -2.47277392],\n",
       "       [-0.61546732, -2.17823987],\n",
       "       [-0.22550192, -3.79734159],\n",
       "       [ 2.03869851, -2.18532522],\n",
       "       [-0.79274716, -3.66157598],\n",
       "       [-0.30229545, -2.79527873],\n",
       "       [ 0.50664882, -1.09527341],\n",
       "       [-0.99837397, -3.44598675],\n",
       "       [ 0.21954922, -2.79759769],\n",
       "       [ 0.37131517, -6.00561031],\n",
       "       [-0.05545894, -3.4784697 ],\n",
       "       [ 0.09137874, -3.61977733],\n",
       "       [-1.79755252, -0.85012177],\n",
       "       [ 0.17405009, -2.63224971],\n",
       "       [ 1.17870281, -2.20519226],\n",
       "       [ 3.2105439 , -2.90531169],\n",
       "       [-0.62605202, -1.99570866],\n",
       "       [-0.03366613, -1.38435976],\n",
       "       [ 0.6993008 , -2.45943957],\n",
       "       [ 0.72061079, -3.2466652 ],\n",
       "       [ 0.51933512, -2.86969325],\n",
       "       [-1.17030045, -3.31947864],\n",
       "       [-0.10824791, -3.79876143],\n",
       "       [-1.12319783, -1.28784815],\n",
       "       [-2.24632419,  0.18734787],\n",
       "       [-3.28527755,  0.69608625],\n",
       "       [-4.07236441,  0.14425752],\n",
       "       [-3.86691235,  0.53503357],\n",
       "       [-3.45088333, -0.21734536],\n",
       "       [-3.71583899,  0.5651013 ],\n",
       "       [-3.9222051 ,  0.89352622],\n",
       "       [-4.8516102 ,  0.31406852],\n",
       "       [-3.54993389,  0.9159633 ],\n",
       "       [-3.76889174,  0.22554113],\n",
       "       [-2.6694225 ,  1.14109076],\n",
       "       [-2.32491492,  1.9484833 ],\n",
       "       [-3.17712883,  1.05985317],\n",
       "       [-2.88964418,  1.15705922],\n",
       "       [-3.78325562,  2.00739304],\n",
       "       [-3.04411324,  0.9812437 ],\n",
       "       [-4.70697017,  1.81778277],\n",
       "       [-4.85021393,  2.20818213],\n",
       "       [-4.98359184,  2.0349552 ],\n",
       "       [-4.86968293,  1.80832861],\n",
       "       [-4.5986919 ,  1.87224228],\n",
       "       [-5.67447884,  1.82580271],\n",
       "       [-5.32986123,  0.58218515],\n",
       "       [-5.03401031,  2.27732076],\n",
       "       [-4.52080087, -0.0067342 ],\n",
       "       [-5.0978371 ,  2.0016203 ],\n",
       "       [-5.04368277,  2.5119033 ],\n",
       "       [-4.86980829,  1.09158074],\n",
       "       [-5.61316558,  2.98439332],\n",
       "       [-5.67046737,  2.27306996],\n",
       "       [-5.37413513,  0.76247223],\n",
       "       [-3.09975377,  1.94106484],\n",
       "       [-3.35888137,  0.54868961],\n",
       "       [-3.04007194,  1.45698898],\n",
       "       [-4.94861303,  2.18992458],\n",
       "       [-4.54504458,  1.21989845],\n",
       "       [-5.27255844,  2.71623061],\n",
       "       [-5.13016117,  2.29172536],\n",
       "       [-4.30468082,  2.39112531],\n",
       "       [-5.08336782,  3.15766665],\n",
       "       [-4.06743571,  0.31892192],\n",
       "       [-5.74212961,  1.46708165],\n",
       "       [-4.4820514 ,  3.30708382],\n",
       "       [-4.29150758,  3.39033191],\n",
       "       [-4.50329623,  2.08354592],\n",
       "       [-5.04747033,  3.19623136],\n",
       "       [-4.27615505,  2.43138798],\n",
       "       [-5.5380861 ,  3.04205709]])"
      ]
     },
     "execution_count": 31,
     "metadata": {},
     "output_type": "execute_result"
    }
   ],
   "source": [
    "lda_x"
   ]
  },
  {
   "cell_type": "code",
   "execution_count": 32,
   "id": "ca686205",
   "metadata": {},
   "outputs": [
    {
     "data": {
      "text/plain": [
       "LogisticRegression()"
      ]
     },
     "execution_count": 32,
     "metadata": {},
     "output_type": "execute_result"
    }
   ],
   "source": [
    "lda_train,lda_test,y_train,y_test=train_test_split(lda_x,y,test_size=0.2, random_state=42)\n",
    "from sklearn.linear_model import LogisticRegression\n",
    "lr=LogisticRegression()\n",
    "lr.fit(lda_train,y_train)"
   ]
  },
  {
   "cell_type": "code",
   "execution_count": 33,
   "id": "bdbda24c",
   "metadata": {},
   "outputs": [
    {
     "data": {
      "text/plain": [
       "array([1, 1, 3, 1, 2, 1, 2, 3, 2, 3, 1, 3, 1, 2, 1, 2, 2, 2, 1, 2, 1, 2,\n",
       "       2, 3, 3, 3, 2, 2, 2, 1, 1, 2, 3, 1, 1, 1], dtype=int64)"
      ]
     },
     "execution_count": 33,
     "metadata": {},
     "output_type": "execute_result"
    }
   ],
   "source": [
    "lr_pred=lr.predict(lda_test)\n",
    "lr_pred"
   ]
  },
  {
   "cell_type": "code",
   "execution_count": 34,
   "id": "0a48cf52",
   "metadata": {},
   "outputs": [],
   "source": [
    "lrlda_acc=acs(y_test,lr_pred)"
   ]
  },
  {
   "cell_type": "code",
   "execution_count": 35,
   "id": "7187f687",
   "metadata": {},
   "outputs": [
    {
     "data": {
      "text/plain": [
       "1.0"
      ]
     },
     "execution_count": 35,
     "metadata": {},
     "output_type": "execute_result"
    }
   ],
   "source": [
    "lrlda_acc"
   ]
  },
  {
   "cell_type": "code",
   "execution_count": 36,
   "id": "af8744d5",
   "metadata": {},
   "outputs": [
    {
     "data": {
      "text/plain": [
       "DecisionTreeClassifier()"
      ]
     },
     "execution_count": 36,
     "metadata": {},
     "output_type": "execute_result"
    }
   ],
   "source": [
    "dt=DecisionTreeClassifier()\n",
    "dt.fit(lda_train,y_train)"
   ]
  },
  {
   "cell_type": "code",
   "execution_count": 37,
   "id": "4ab1f284",
   "metadata": {},
   "outputs": [
    {
     "data": {
      "text/plain": [
       "array([1, 1, 3, 1, 2, 1, 2, 3, 2, 3, 1, 3, 1, 2, 1, 2, 2, 2, 1, 2, 1, 2,\n",
       "       2, 3, 3, 3, 2, 2, 2, 1, 1, 2, 3, 1, 1, 1], dtype=int64)"
      ]
     },
     "execution_count": 37,
     "metadata": {},
     "output_type": "execute_result"
    }
   ],
   "source": [
    "dt_pred=dt.predict(lda_test)\n",
    "dt_pred"
   ]
  },
  {
   "cell_type": "code",
   "execution_count": 38,
   "id": "3012c2bd",
   "metadata": {},
   "outputs": [
    {
     "data": {
      "text/plain": [
       "1.0"
      ]
     },
     "execution_count": 38,
     "metadata": {},
     "output_type": "execute_result"
    }
   ],
   "source": [
    "dtlda_acc=acs(y_test,dt_pred)\n",
    "dtlda_acc"
   ]
  },
  {
   "cell_type": "code",
   "execution_count": null,
   "id": "813f879b",
   "metadata": {},
   "outputs": [],
   "source": []
  }
 ],
 "metadata": {
  "kernelspec": {
   "display_name": "Python 3 (ipykernel)",
   "language": "python",
   "name": "python3"
  },
  "language_info": {
   "codemirror_mode": {
    "name": "ipython",
    "version": 3
   },
   "file_extension": ".py",
   "mimetype": "text/x-python",
   "name": "python",
   "nbconvert_exporter": "python",
   "pygments_lexer": "ipython3",
   "version": "3.9.12"
  }
 },
 "nbformat": 4,
 "nbformat_minor": 5
}
